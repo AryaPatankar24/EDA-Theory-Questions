{
  "nbformat": 4,
  "nbformat_minor": 0,
  "metadata": {
    "colab": {
      "provenance": []
    },
    "kernelspec": {
      "name": "python3",
      "display_name": "Python 3"
    },
    "language_info": {
      "name": "python"
    }
  },
  "cells": [
    {
      "cell_type": "markdown",
      "source": [
        "# Based on your EDA, what are the key drivers of customer churn?\n"
      ],
      "metadata": {
        "id": "5oqkEmtqDVpv"
      }
    },
    {
      "cell_type": "markdown",
      "source": [
        "From the Exploratary Data Analysis(EDA) so far, the following features appears to be key drivers of customer churn:\n",
        "\n",
        "\n",
        "Contract Type: Customer with month-to-month contracts tend to churn more than those with longer term contracts. This is a common behaviour since month-to-month customer are not tied down and can leave more easily.\n",
        "\n",
        "Tenure: Short-tenure customer are more likely to churn. The data show that customer with shorter tenure (particularly those in the initial few months) may be at a higher risk of leaving. This indicates the importance of early-stage customer retention.\n",
        "\n",
        "Payment Method: Customer using electornic checks as their payment method may have be higher churn rate. This could suggest that these customer may be facing payment issues or are less committed compared to other payment methods.\n",
        "\n",
        "Monthly Charge: Highly monthlyl charges may drive churn, particularly if customer perceive the services are not providing enough value for the price. Services Opted in (Tech Support, Online Backup, Streaming TV, etc). Customer who do not use additional services like Tech Support, Streaming Tv, or Online Security are at a higher risk of churn. It might be that those not utilizing these services do not feel they are receiving full value from the services.\n",
        "\n",
        "Total Charges: A low total charges (receive to the customer's usage and contract) might signal that the customer is less invested, leading to a higher risk of churn, while higher total charges could correlate with longer retention, assuming higher commitment to the services.\n"
      ],
      "metadata": {
        "id": "tHISsntZDhsD"
      }
    },
    {
      "cell_type": "markdown",
      "source": [
        "# What are the most promising areas for intervention to reduce churn?"
      ],
      "metadata": {
        "id": "e4_TEpYWIH8b"
      }
    },
    {
      "cell_type": "markdown",
      "source": [
        "Most Promising Areas for Intervention to reduce Churn Based on the data, following are shown peomise for intervention:\n",
        "\n",
        "\n",
        "Enhance Early Customer Experience:  Focus on new customer with month-to-month contract by providing extra value (eg: offering discount, free trials of premium features, or personalized onboarding experiences.).\n",
        "\n",
        "Focus on Service Usage: Encourage cusomer to opt into additional services (like\n",
        "Tech Supprot, Streaming TV, and Online Backup) to increase customer value. You can introduce bundling options or promotions for customer to try these services.\n",
        "\n",
        "Review Payment Methods: Investigate why customer using electornic checks as payment method are more likely to churn. Offering alternatives, such as direct bank payment or incentives for automatic payments, could help reduce churn in this group.\n",
        "\n",
        "Flexible Pricing for High Monthly Charges: For customer who are at risk due to high montly charges, offering discount or flexible plans could reduce the risk of theme leaving. For example, introducing tiered pricing or loyalty discount for long term customer might improve rentention.\n",
        "\n",
        "Long-Term Contract Promotions: Encourage customer to switch to longer contracts by offering discount or perks for those who commit to 12 or 24 months plans. This could significantly reduce churn form month-to-month customers."
      ],
      "metadata": {
        "id": "pHwX0BN9IRkA"
      }
    },
    {
      "cell_type": "markdown",
      "source": [
        "#What specific recommendations can you make to the business based on your findings? (e.g., targeted retention campaigns, pricing adjustments, service improvements)"
      ],
      "metadata": {
        "id": "itTRLJVEN29H"
      }
    },
    {
      "cell_type": "markdown",
      "source": [
        "Specific Recommendations for the Business\n",
        "\n",
        "Targeted Rentention Campaigns for New Customer:\n",
        "Implement onboarding Campaigns to engage new customers, particularly those with month-to-month contraacts or short tenure. This could include welcome emails, special discounts, and clear explanation of service benefits. Service Upselling and Cross-Selling.\n",
        "\n",
        "\n",
        "For Customer who have basic service, run campaigns to promote premium offering ( eg: Tech Supprot, Streaming TV, and Online Backup). You could offer free trials or discount for the first few months to encourage sign-ups. Customer Segmentation and Personalization.\n",
        "\n",
        "Use Machine learning model to segment customer based on their churn risk and tailer retention offers. For example, a customer with low usage and high charges could receives a special offer to reduce their monthly rate, while long tenure customer might receives a loyalty bouns.\n",
        "\n",
        "Receive Payment Plans For High Churn Group:\n",
        "\n",
        "Focus on customer who use electronic checks as their payment method and target them with personalized communication about easy payment options. Provides incentives for automatic payment methods, or for customer who switch to different payment plans.\n",
        "\n",
        "Introduced Tiered Pricing Plans:\n",
        "\n",
        "Consider introducing felxible pricing plans for customer with highly monthly charges, or offering discount for customer who stay with the services for longer period. This could provide an incentive for customer to stay longer and increase lifetime value.\n",
        "\n",
        "Loyalty Programs:\n",
        "\n",
        "Create a loyalty program to rewards customer for staying longer. Offer benefits like discounts, exclusive content or early access to new features for long-tenure customers, encouraging them to continue their subscriptions.\n",
        "\n",
        "\n",
        "\n",
        "\n",
        "\n"
      ],
      "metadata": {
        "id": "XZdGk8ydOS_Q"
      }
    },
    {
      "cell_type": "code",
      "execution_count": null,
      "metadata": {
        "id": "cZTOJf57DUCI"
      },
      "outputs": [],
      "source": []
    }
  ]
}